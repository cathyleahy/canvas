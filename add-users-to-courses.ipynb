{
 "cells": [
  {
   "cell_type": "code",
   "execution_count": 4,
   "metadata": {
    "collapsed": false
   },
   "outputs": [
    {
     "name": "stdout",
     "output_type": "stream",
     "text": [
      "Course user list file name: test-add-users.xlsx\n",
      "Added: 8993 : 227\n",
      "Error: 8993000 : 227\n"
     ]
    }
   ],
   "source": [
    "#==========================================================================#\n",
    "# add-users-to-courses\n",
    "#==========================================================================#\n",
    "# * Adds users to provided course list\n",
    "#\n",
    "# Cathy Leahy\n",
    "# Last update: 11/05/2018\n",
    "#--------------------------------------------------------------------------#\n",
    "# Setup\n",
    "# [1] config\n",
    "#\n",
    "# Input file\n",
    "# * canvas_id\tuser_id\n",
    "#--------------------------------------------------------------------------#\n",
    "# TO DO \n",
    "# * write response to excel file?\n",
    "#--------------------------------------------------------------------------#\n",
    "import csv, requests, time\n",
    "from time import gmtime, strftime\n",
    "from pprint import pprint\n",
    "import json\n",
    "import pandas as pd\n",
    "\n",
    "#==========================================================================#\n",
    "# Variables\n",
    "#==========================================================================#\n",
    "# Adapted from G. Q. Maguire Jr.\n",
    "with open('../config/config.json') as json_data_file:\n",
    "    configuration = json.load(json_data_file)\n",
    "    access_token=configuration[\"canvas\"][\"access_token\"]\n",
    "\n",
    "header = {'Authorization' : 'Bearer ' + access_token}\n",
    "payload = {}\n",
    "baseURL=\"https://\"+configuration[\"canvas\"][\"host\"]+\"/api/v1/\"\n",
    "log_file = 'log.txt' # timestamped log file\n",
    "\n",
    "#==========================================================================#\n",
    "# Main\n",
    "#==========================================================================#\n",
    "def main():\n",
    "\n",
    "    file=input(\"ENTER Course user list file name: \")\n",
    "    df = pd.read_excel(file)\n",
    "\n",
    "    #[addUser(c,userID) for c in df]\n",
    "    for index in range(len(df)):\n",
    "        course_id = df.loc[index]['canvas_id']\n",
    "        user_id = df.loc[index]['user_id']\n",
    "        url ='{}courses/{}/enrollments'.format(baseURL, course_id)\n",
    "        payload ={'enrollment[user_id]':user_id, 'enrollment[type]':'TeacherEnrollment'}\n",
    "        response = add_item(url, payload)\n",
    "        try:\n",
    "            print('Added: {} : {}'.format(response['course_id'], response['user_id']))\n",
    "        except:\n",
    "            print('Error: {} : {}'.format(course_id, user_id))\n",
    "            \n",
    "\n",
    "## ~~~~~~~~~~~~~~~~~~~~~~~~~~~~~~~~~~~~~~~~~~~~~~~\n",
    "## API call to add (POST) to Canvas\n",
    "## ~~~~~~~~~~~~~~~~~~~~~~~~~~~~~~~~~~~~~~~~~~~~~~~\n",
    "def add_item(url, payload):   \n",
    "    items =[]\n",
    "    items_json = []\n",
    "    \n",
    "    r = requests.post(url, headers = header, data=payload)   \n",
    "    if r.status_code == requests.codes.ok:\n",
    "        items_json = r.json()\n",
    "    return items_json   \n",
    "\n",
    "\n",
    "        \n",
    "if __name__ == \"__main__\": main()"
   ]
  },
  {
   "cell_type": "code",
   "execution_count": null,
   "metadata": {
    "collapsed": true
   },
   "outputs": [],
   "source": []
  }
 ],
 "metadata": {
  "kernelspec": {
   "display_name": "Python 3",
   "language": "python",
   "name": "python3"
  },
  "language_info": {
   "codemirror_mode": {
    "name": "ipython",
    "version": 3
   },
   "file_extension": ".py",
   "mimetype": "text/x-python",
   "name": "python",
   "nbconvert_exporter": "python",
   "pygments_lexer": "ipython3",
   "version": "3.6.0"
  }
 },
 "nbformat": 4,
 "nbformat_minor": 2
}
